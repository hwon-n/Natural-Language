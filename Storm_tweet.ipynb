{
  "nbformat": 4,
  "nbformat_minor": 0,
  "metadata": {
    "colab": {
      "provenance": [],
      "authorship_tag": "ABX9TyNwYxgqRq1mM5nx5hmnE5/l",
      "include_colab_link": true
    },
    "kernelspec": {
      "name": "python3",
      "display_name": "Python 3"
    },
    "language_info": {
      "name": "python"
    }
  },
  "cells": [
    {
      "cell_type": "markdown",
      "metadata": {
        "id": "view-in-github",
        "colab_type": "text"
      },
      "source": [
        "<a href=\"https://colab.research.google.com/github/hwon-n/Storm-tweet/blob/main/Storm_tweet.ipynb\" target=\"_parent\"><img src=\"https://colab.research.google.com/assets/colab-badge.svg\" alt=\"Open In Colab\"/></a>"
      ]
    },
    {
      "cell_type": "code",
      "source": [
        "pip install searchtweets"
      ],
      "metadata": {
        "colab": {
          "base_uri": "https://localhost:8080/"
        },
        "id": "dIwn6m0YpBKy",
        "outputId": "4598dbdd-ab00-4e92-c071-1cea65426c94"
      },
      "execution_count": 1,
      "outputs": [
        {
          "output_type": "stream",
          "name": "stdout",
          "text": [
            "Looking in indexes: https://pypi.org/simple, https://us-python.pkg.dev/colab-wheels/public/simple/\n",
            "Requirement already satisfied: searchtweets in /usr/local/lib/python3.7/dist-packages (1.7.6)\n",
            "Requirement already satisfied: requests in /usr/local/lib/python3.7/dist-packages (from searchtweets) (2.23.0)\n",
            "Requirement already satisfied: pyyaml in /usr/local/lib/python3.7/dist-packages (from searchtweets) (6.0)\n",
            "Requirement already satisfied: tweet-parser in /usr/local/lib/python3.7/dist-packages (from searchtweets) (1.13.2)\n",
            "Requirement already satisfied: certifi>=2017.4.17 in /usr/local/lib/python3.7/dist-packages (from requests->searchtweets) (2022.9.24)\n",
            "Requirement already satisfied: idna<3,>=2.5 in /usr/local/lib/python3.7/dist-packages (from requests->searchtweets) (2.10)\n",
            "Requirement already satisfied: urllib3!=1.25.0,!=1.25.1,<1.26,>=1.21.1 in /usr/local/lib/python3.7/dist-packages (from requests->searchtweets) (1.24.3)\n",
            "Requirement already satisfied: chardet<4,>=3.0.2 in /usr/local/lib/python3.7/dist-packages (from requests->searchtweets) (3.0.4)\n"
          ]
        }
      ]
    },
    {
      "cell_type": "code",
      "execution_count": 2,
      "metadata": {
        "colab": {
          "base_uri": "https://localhost:8080/"
        },
        "id": "hmBAoxwrisz2",
        "outputId": "50273bb1-1c72-4b21-ba8f-b8d58bd56774"
      },
      "outputs": [
        {
          "output_type": "stream",
          "name": "stdout",
          "text": [
            "Looking in indexes: https://pypi.org/simple, https://us-python.pkg.dev/colab-wheels/public/simple/\n",
            "Requirement already satisfied: python-twitter in /usr/local/lib/python3.7/dist-packages (3.5)\n",
            "Requirement already satisfied: future in /usr/local/lib/python3.7/dist-packages (from python-twitter) (0.16.0)\n",
            "Requirement already satisfied: requests in /usr/local/lib/python3.7/dist-packages (from python-twitter) (2.23.0)\n",
            "Requirement already satisfied: requests-oauthlib in /usr/local/lib/python3.7/dist-packages (from python-twitter) (1.3.1)\n",
            "Requirement already satisfied: idna<3,>=2.5 in /usr/local/lib/python3.7/dist-packages (from requests->python-twitter) (2.10)\n",
            "Requirement already satisfied: chardet<4,>=3.0.2 in /usr/local/lib/python3.7/dist-packages (from requests->python-twitter) (3.0.4)\n",
            "Requirement already satisfied: urllib3!=1.25.0,!=1.25.1,<1.26,>=1.21.1 in /usr/local/lib/python3.7/dist-packages (from requests->python-twitter) (1.24.3)\n",
            "Requirement already satisfied: certifi>=2017.4.17 in /usr/local/lib/python3.7/dist-packages (from requests->python-twitter) (2022.9.24)\n",
            "Requirement already satisfied: oauthlib>=3.0.0 in /usr/local/lib/python3.7/dist-packages (from requests-oauthlib->python-twitter) (3.2.1)\n"
          ]
        }
      ],
      "source": [
        "pip install python-twitter"
      ]
    },
    {
      "cell_type": "markdown",
      "source": [
        "### API 연결"
      ],
      "metadata": {
        "id": "WBJsCXahmAJT"
      }
    },
    {
      "cell_type": "code",
      "source": [
        "twitter_api_key = 'Ky9xXDDLtQzxsPAn42qVecPzf'\n",
        "twitter_api_secret = 'CtvTb5BiqLoAaKzlE3TqJRDotoJWkpCLiHy4Tukapk7AdY44aS'\n",
        "twitter_access = '1463859418173485059-5pn8fzQitD6FZ6qlQSWrRvHkzDNqRV'\n",
        "twitter_access_secret = 'ZpISGgeGvYsTHr83DEykVrlxnlQQVw5FxrJLWKlr1gjaS'"
      ],
      "metadata": {
        "id": "hUFuq0mjlrf_"
      },
      "execution_count": 3,
      "outputs": []
    },
    {
      "cell_type": "code",
      "source": [
        "import twitter\n",
        "\n",
        "twitter_api = twitter.Api(consumer_key = twitter_api_key,\n",
        "                          consumer_secret = twitter_api_secret,\n",
        "                          access_token_key = twitter_access,\n",
        "                          access_token_secret = twitter_access_secret)"
      ],
      "metadata": {
        "id": "VcateKyJl_Yk"
      },
      "execution_count": 4,
      "outputs": []
    },
    {
      "cell_type": "code",
      "source": [
        "account = \"@hellopolicy\"\n",
        "statuses = twitter_api.GetUserTimeline(screen_name=account, count=10, include_rts=True, exclude_replies=False)\n",
        "\n",
        "# 트윗 텍스트만 보기\n",
        "for status in statuses:\n",
        "\tprint(status.text)"
      ],
      "metadata": {
        "colab": {
          "base_uri": "https://localhost:8080/"
        },
        "id": "uwKfvW3HmVfw",
        "outputId": "6f0c2bdd-8b46-4bf7-c2ca-b2784127a96d"
      },
      "execution_count": 5,
      "outputs": [
        {
          "output_type": "stream",
          "name": "stdout",
          "text": [
            "https://t.co/Az0njI3yXt\n",
            "[정책이 바꾼 세상 ep.6]\n",
            "#청와대_개방 ④\n",
            "\n",
            "경복궁 돌담길을 따라 떠나는\n",
            "미술관·박물관 투어부터\n",
            "골목마다 숨겨진 특색 있는 식당·소품가게까지!\n",
            "\n",
            "가을로 물들어가는\n",
            "청와대 인근 가을나들이 코스를\n",
            "대한민국… https://t.co/NqTP20OjxS\n",
            "https://t.co/QukmhWWeU2\n",
            "주민등록번호 유출로 생명·신체에 위해 또는 \n",
            "재산 피해를 입거나 입을 우려가 있는 경우, \n",
            "\n",
            "정부24 온라인 시스템을 통해\n",
            "변경 신청이 가능합니다.\n",
            "\n",
            "✔주민등록번호 변경 신청 방법\n",
            "정부24 누리집(… https://t.co/voZSdytghR\n",
            "[10월 14일 오늘 정책뉴스]\n",
            "#코로나19 #예방접종 #기초접종\n",
            "사전예약 누리집 또는 ☎1339, 지자체 콜센터를 통해 전화예약이 가능하며 네이버·카카오톡 잔여백신 예약을 통한 당일접종도 가능합니다.\n",
            "사전… https://t.co/GFOsO19gDa\n",
            "[10월 14일 오늘 정책뉴스]\n",
            "#2022년_어르신지원정책 #보건복지부\n",
            "어르신에게 꼭 필요하고 도움되는 정책들, 핵심 정보만 콕! 집어 알려드립니다!\n",
            "https://t.co/cCCIAIMIJn https://t.co/MCP20YA0uE\n",
            "[10월 14일 오늘 정책뉴스]\n",
            "#2030자문단_모집공고 #청년세대\n",
            "국정 전반에 청년들의 목소리를 담을 수 있도록 ‘2030 자문단’에 많은 참여 부탁드립니다! \n",
            "https://t.co/gOqhAJ4tbA https://t.co/b07HuhhbnH\n",
            "#말해주세요 ep.17 지구를 살리는 실천, 제로 웨이스트\n",
            "\n",
            "날이 갈수록 심각해지는 기후 위기!\n",
            "지구를 살리는 당장의 실천이 필요합니다.\n",
            "\n",
            "일상 생활 속 쓰레기 배출을\n",
            "'0(제로)'에 가깝게 최소화할 수 있… https://t.co/ss7oKq3eme\n",
            "RT @Mylife_KTV: #대통령실 #부대변인 #브리핑\n",
            "\n",
            "🔹일시 : 2022. 10. 14. (금) 15:00\n",
            "🔹장소 : 1층 브리핑룸\n",
            "🔹발표 : 이재명 부대변인 https://t.co/VWAoaId6EY\n",
            "RT @Mylife_KTV: #코로나19 #백신 #예방접종\n",
            "\n",
            "🔹일시 : 2022. 10. 14. (금) 11:00\n",
            "🔹장소 : 정부서울청사 본관 브리핑실\n",
            "🔹발표 : 손영래 중앙사고수습본부 사회전략반장 https://t.co/1D1alVh05m\n"
          ]
        }
      ]
    },
    {
      "cell_type": "markdown",
      "source": [
        "## \"태풍\" 검색하기"
      ],
      "metadata": {
        "id": "K_UOXJR_nZp_"
      }
    },
    {
      "cell_type": "code",
      "source": [
        "# GetSearch()\n",
        "\n",
        "query = '힌남노'\n",
        "statuses = twitter_api.GetSearch(term=query, count=10)\n",
        "\n",
        "for status in statuses:\n",
        "  print(status.text)\n"
      ],
      "metadata": {
        "colab": {
          "base_uri": "https://localhost:8080/"
        },
        "id": "090XH4MwnX1z",
        "outputId": "63a585e8-045c-46bd-e286-36a9d5ffc360"
      },
      "execution_count": 6,
      "outputs": [
        {
          "output_type": "stream",
          "name": "stdout",
          "text": [
            "1억 원 가까이 들여 설치한 미러볼은 24일 간 전시됐다가 지난달 태풍 힌남노가 접근할 때 안전 우려로 철거됐습니다. https://t.co/Ca9U69lUli\n",
            "다만 지난 태풍 힌남노 상륙 당시 용산 대통령실 철야근무를 자청했던 윤 대통령은 이 때 잠시 한남동 관저에 들러 머문 것으로 알려졌다. \n",
            "\n",
            "비상대기를 좀 해보겠다더니 또 기어들어가 잤었네 https://t.co/bDGdnKvKXr\n",
            "제주도 마라도 CCTV 실시간 영상보기 #제주도CCTV #마라도CCTV #실시간CCTV #태풍 #힌남노 #제주도마라도CCTV - https://t.co/Lwil7RVkV7\n",
            "법에 막힌 보험금...'힌남노'로 숨진 포항 중학생만 못 받는다!!!\n",
            "\n",
            "https://t.co/FJd9pYZxSo\n",
            "RT @saiph1324: 이번에 우리나라로 다가오는 태풍 힌남노는 40~60m/s에 달하는 강풍을 동반하고 있습니다. 그렇다면 태양계에서 가장 강한 바람을 가진 천체는 무엇일까요? 해왕성입니다. 해왕성의 태풍은 초속 600m/s를 넘는 강풍이 몰아…\n",
            "『태풍 피해 추가접수 및 이의신청 접수 방법』\n",
            "\n",
            "✅ 접 수 처 : 해당 읍·면·동 행정복지센터 직접 방문하여 신고\n",
            "\n",
            "✅ 접수기간 : 2022.10.11.(화) ~ 10.21.(금)\n",
            "※ 주택에 대해서만 접수가… https://t.co/fv3uy8t8HO\n",
            "✔#윤석열 #대통령, 8월 #호우 ·제11호 #태풍 #힌남노 대응 유공자와 오찬\n",
            "▪️지난 #호우·태풍 힌남노로 피해 입은 모든 분들께 위로 전해\n",
            "▪️\"#이웃 외면 않고 손 내민 대응 유공자들···진정한… https://t.co/RQJCmbnYtz\n",
            "제주도 마라도 CCTV 실시간 영상보기 #제주도CCTV #마라도CCTV #실시간CCTV #태풍 #힌남노 #제주도마라도CCTV - https://t.co/Lwil7REhT7\n",
            "아 맞아\n",
            "저번에 태풍 지나고 교양교수님이 (나이 많으신 남자교수님이셨음) 언급하시면서 힌남노가 지나갔었죠~ 한남노라고 잘못 불리는 일도 있었다면서요 허허허 하고 농조로 말씀하셨는데\n",
            "그날 강의끝나고 바로 누가 그 교수님 페미냐고 글 올린게 ㄹㅈㄷ였음\n",
            "[단독] 조업 멈췄다던 포스코, 태풍 힌남노 당일에도 공장 돌렸다\n"
          ]
        }
      ]
    },
    {
      "cell_type": "markdown",
      "source": [
        "<hr />"
      ],
      "metadata": {
        "id": "i6A3YQzipjDy"
      }
    },
    {
      "cell_type": "code",
      "source": [
        "%env SEARCHTWEETS_ENDPOINT=https://api.twitter.com/2/tweets/search/all\n",
        "%env SEARCHTWEETS_BEARER_TOKEN=AAAAAAAAAAAAAAAAAAAAAGfFWAEAAAAATheoKFMpW%2F0yEXAYkxUs0g8iS44%3DOxUWI5xyFVNTO4npTtZ57apfC61PFxGfMLCsrY3uq3pHVtWTkb"
      ],
      "metadata": {
        "colab": {
          "base_uri": "https://localhost:8080/"
        },
        "id": "Wu8IErnKrKDM",
        "outputId": "3a86bc45-6feb-4999-d288-5b08ce9b3b60"
      },
      "execution_count": 7,
      "outputs": [
        {
          "output_type": "stream",
          "name": "stdout",
          "text": [
            "env: SEARCHTWEETS_ENDPOINT=https://api.twitter.com/2/tweets/search/all\n",
            "env: SEARCHTWEETS_BEARER_TOKEN=AAAAAAAAAAAAAAAAAAAAAGfFWAEAAAAATheoKFMpW%2F0yEXAYkxUs0g8iS44%3DOxUWI5xyFVNTO4npTtZ57apfC61PFxGfMLCsrY3uq3pHVtWTkb\n"
          ]
        }
      ]
    },
    {
      "cell_type": "code",
      "source": [
        "from searchtweets import load_credentials, gen_request_parameters, collect_results\n",
        "\n",
        "search_args = load_credentials(env_overwrite=True)\n",
        "query = gen_request_parameters('from:storm', results_per_call=10)\n",
        "results = collect_results(query, max_tweets=10, result_stream_args=search_args)\n",
        "\n",
        "for result in results:\n",
        "  print(result, end='\\n\\n')"
      ],
      "metadata": {
        "colab": {
          "base_uri": "https://localhost:8080/",
          "height": 390
        },
        "id": "goh6_h7CoF87",
        "outputId": "7047f818-5428-45a3-bb0f-05c681b1ddf5"
      },
      "execution_count": 8,
      "outputs": [
        {
          "output_type": "error",
          "ename": "ImportError",
          "evalue": "ignored",
          "traceback": [
            "\u001b[0;31m---------------------------------------------------------------------------\u001b[0m",
            "\u001b[0;31mImportError\u001b[0m                               Traceback (most recent call last)",
            "\u001b[0;32m<ipython-input-8-0f2bd673fd17>\u001b[0m in \u001b[0;36m<module>\u001b[0;34m\u001b[0m\n\u001b[0;32m----> 1\u001b[0;31m \u001b[0;32mfrom\u001b[0m \u001b[0msearchtweets\u001b[0m \u001b[0;32mimport\u001b[0m \u001b[0mload_credentials\u001b[0m\u001b[0;34m,\u001b[0m \u001b[0mgen_request_parameters\u001b[0m\u001b[0;34m,\u001b[0m \u001b[0mcollect_results\u001b[0m\u001b[0;34m\u001b[0m\u001b[0;34m\u001b[0m\u001b[0m\n\u001b[0m\u001b[1;32m      2\u001b[0m \u001b[0;34m\u001b[0m\u001b[0m\n\u001b[1;32m      3\u001b[0m \u001b[0msearch_args\u001b[0m \u001b[0;34m=\u001b[0m \u001b[0mload_credentials\u001b[0m\u001b[0;34m(\u001b[0m\u001b[0menv_overwrite\u001b[0m\u001b[0;34m=\u001b[0m\u001b[0;32mTrue\u001b[0m\u001b[0;34m)\u001b[0m\u001b[0;34m\u001b[0m\u001b[0;34m\u001b[0m\u001b[0m\n\u001b[1;32m      4\u001b[0m \u001b[0mquery\u001b[0m \u001b[0;34m=\u001b[0m \u001b[0mgen_request_parameters\u001b[0m\u001b[0;34m(\u001b[0m\u001b[0;34m'from:storm'\u001b[0m\u001b[0;34m,\u001b[0m \u001b[0mresults_per_call\u001b[0m\u001b[0;34m=\u001b[0m\u001b[0;36m10\u001b[0m\u001b[0;34m)\u001b[0m\u001b[0;34m\u001b[0m\u001b[0;34m\u001b[0m\u001b[0m\n\u001b[1;32m      5\u001b[0m \u001b[0mresults\u001b[0m \u001b[0;34m=\u001b[0m \u001b[0mcollect_results\u001b[0m\u001b[0;34m(\u001b[0m\u001b[0mquery\u001b[0m\u001b[0;34m,\u001b[0m \u001b[0mmax_tweets\u001b[0m\u001b[0;34m=\u001b[0m\u001b[0;36m10\u001b[0m\u001b[0;34m,\u001b[0m \u001b[0mresult_stream_args\u001b[0m\u001b[0;34m=\u001b[0m\u001b[0msearch_args\u001b[0m\u001b[0;34m)\u001b[0m\u001b[0;34m\u001b[0m\u001b[0;34m\u001b[0m\u001b[0m\n",
            "\u001b[0;31mImportError\u001b[0m: cannot import name 'gen_request_parameters' from 'searchtweets' (/usr/local/lib/python3.7/dist-packages/searchtweets/__init__.py)",
            "",
            "\u001b[0;31m---------------------------------------------------------------------------\u001b[0;32m\nNOTE: If your import is failing due to a missing package, you can\nmanually install dependencies using either !pip or !apt.\n\nTo view examples of installing some common dependencies, click the\n\"Open Examples\" button below.\n\u001b[0;31m---------------------------------------------------------------------------\u001b[0m\n"
          ],
          "errorDetails": {
            "actions": [
              {
                "action": "open_url",
                "actionText": "Open Examples",
                "url": "/notebooks/snippets/importing_libraries.ipynb"
              }
            ]
          }
        }
      ]
    }
  ]
}
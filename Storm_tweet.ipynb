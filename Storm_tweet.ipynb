{
  "nbformat": 4,
  "nbformat_minor": 0,
  "metadata": {
    "colab": {
      "provenance": [],
      "authorship_tag": "ABX9TyNbFlm/oldzTxLa26sW0bw5",
      "include_colab_link": true
    },
    "kernelspec": {
      "name": "python3",
      "display_name": "Python 3"
    },
    "language_info": {
      "name": "python"
    }
  },
  "cells": [
    {
      "cell_type": "markdown",
      "metadata": {
        "id": "view-in-github",
        "colab_type": "text"
      },
      "source": [
        "<a href=\"https://colab.research.google.com/github/hwon-n/Storm-tweet/blob/main/Storm_tweet.ipynb\" target=\"_parent\"><img src=\"https://colab.research.google.com/assets/colab-badge.svg\" alt=\"Open In Colab\"/></a>"
      ]
    },
    {
      "cell_type": "code",
      "source": [
        "pip install searchtweets"
      ],
      "metadata": {
        "colab": {
          "base_uri": "https://localhost:8080/"
        },
        "id": "dIwn6m0YpBKy",
        "outputId": "d4944cca-7fec-4161-c7b5-b895b02ed3f7"
      },
      "execution_count": 7,
      "outputs": [
        {
          "output_type": "stream",
          "name": "stdout",
          "text": [
            "Looking in indexes: https://pypi.org/simple, https://us-python.pkg.dev/colab-wheels/public/simple/\n",
            "Requirement already satisfied: searchtweets in /usr/local/lib/python3.7/dist-packages (1.7.6)\n",
            "Requirement already satisfied: pyyaml in /usr/local/lib/python3.7/dist-packages (from searchtweets) (6.0)\n",
            "Requirement already satisfied: tweet-parser in /usr/local/lib/python3.7/dist-packages (from searchtweets) (1.13.2)\n",
            "Requirement already satisfied: requests in /usr/local/lib/python3.7/dist-packages (from searchtweets) (2.23.0)\n",
            "Requirement already satisfied: urllib3!=1.25.0,!=1.25.1,<1.26,>=1.21.1 in /usr/local/lib/python3.7/dist-packages (from requests->searchtweets) (1.24.3)\n",
            "Requirement already satisfied: chardet<4,>=3.0.2 in /usr/local/lib/python3.7/dist-packages (from requests->searchtweets) (3.0.4)\n",
            "Requirement already satisfied: certifi>=2017.4.17 in /usr/local/lib/python3.7/dist-packages (from requests->searchtweets) (2022.9.24)\n",
            "Requirement already satisfied: idna<3,>=2.5 in /usr/local/lib/python3.7/dist-packages (from requests->searchtweets) (2.10)\n"
          ]
        }
      ]
    },
    {
      "cell_type": "code",
      "execution_count": 8,
      "metadata": {
        "colab": {
          "base_uri": "https://localhost:8080/"
        },
        "id": "hmBAoxwrisz2",
        "outputId": "6058febd-43a2-41c2-f4b6-c0e2011a7fe5"
      },
      "outputs": [
        {
          "output_type": "stream",
          "name": "stdout",
          "text": [
            "Looking in indexes: https://pypi.org/simple, https://us-python.pkg.dev/colab-wheels/public/simple/\n",
            "Collecting python-twitter\n",
            "  Downloading python_twitter-3.5-py2.py3-none-any.whl (67 kB)\n",
            "\u001b[K     |████████████████████████████████| 67 kB 2.7 MB/s \n",
            "\u001b[?25hRequirement already satisfied: requests in /usr/local/lib/python3.7/dist-packages (from python-twitter) (2.23.0)\n",
            "Requirement already satisfied: requests-oauthlib in /usr/local/lib/python3.7/dist-packages (from python-twitter) (1.3.1)\n",
            "Requirement already satisfied: future in /usr/local/lib/python3.7/dist-packages (from python-twitter) (0.16.0)\n",
            "Requirement already satisfied: chardet<4,>=3.0.2 in /usr/local/lib/python3.7/dist-packages (from requests->python-twitter) (3.0.4)\n",
            "Requirement already satisfied: urllib3!=1.25.0,!=1.25.1,<1.26,>=1.21.1 in /usr/local/lib/python3.7/dist-packages (from requests->python-twitter) (1.24.3)\n",
            "Requirement already satisfied: certifi>=2017.4.17 in /usr/local/lib/python3.7/dist-packages (from requests->python-twitter) (2022.9.24)\n",
            "Requirement already satisfied: idna<3,>=2.5 in /usr/local/lib/python3.7/dist-packages (from requests->python-twitter) (2.10)\n",
            "Requirement already satisfied: oauthlib>=3.0.0 in /usr/local/lib/python3.7/dist-packages (from requests-oauthlib->python-twitter) (3.2.1)\n",
            "Installing collected packages: python-twitter\n",
            "Successfully installed python-twitter-3.5\n"
          ]
        }
      ],
      "source": [
        "pip install python-twitter"
      ]
    },
    {
      "cell_type": "markdown",
      "source": [
        "### API 연결"
      ],
      "metadata": {
        "id": "WBJsCXahmAJT"
      }
    },
    {
      "cell_type": "code",
      "source": [
        "twitter_api_key = 'Ky9xXDDLtQzxsPAn42qVecPzf'\n",
        "twitter_api_secret = 'CtvTb5BiqLoAaKzlE3TqJRDotoJWkpCLiHy4Tukapk7AdY44aS'\n",
        "twitter_access = '1463859418173485059-5pn8fzQitD6FZ6qlQSWrRvHkzDNqRV'\n",
        "twitter_access_secret = 'ZpISGgeGvYsTHr83DEykVrlxnlQQVw5FxrJLWKlr1gjaS'"
      ],
      "metadata": {
        "id": "hUFuq0mjlrf_"
      },
      "execution_count": 9,
      "outputs": []
    },
    {
      "cell_type": "code",
      "source": [
        "import twitter\n",
        "\n",
        "twitter_api = twitter.Api(consumer_key = twitter_api_key,\n",
        "                          consumer_secret = twitter_api_secret,\n",
        "                          access_token_key = twitter_access,\n",
        "                          access_token_secret = twitter_access_secret)"
      ],
      "metadata": {
        "id": "VcateKyJl_Yk"
      },
      "execution_count": 10,
      "outputs": []
    },
    {
      "cell_type": "code",
      "source": [
        "# API 연결 테스트\n",
        "\n",
        "account = \"@hellopolicy\"\n",
        "statuses = twitter_api.GetUserTimeline(screen_name=account, count=10, include_rts=True, exclude_replies=False)\n",
        "\n",
        "# 트윗 텍스트만 보기\n",
        "for status in statuses:\n",
        "\tprint(status.text)"
      ],
      "metadata": {
        "colab": {
          "base_uri": "https://localhost:8080/"
        },
        "id": "uwKfvW3HmVfw",
        "outputId": "f8218850-d8e0-4b99-8035-aea4dcd48b19"
      },
      "execution_count": 22,
      "outputs": [
        {
          "output_type": "stream",
          "name": "stdout",
          "text": [
            "RT @bizinfo1357: 중기부, #경제규제혁신TF 에서 #제1차_중소벤처분야_규제개선방안 발표\n",
            "-#이영 장관, \"신산업 진출을 가로막는 '#허들규제' 같은 핵심 규제는\n",
            "관계부처 장관과 업계가 만나 해결책을 만드는\n",
            "'(가칭) 규제뽀개기'를 통해…\n",
            "'시간제보육 통합형 시범사업'은\n",
            "가정에서 아이를 돌보는 부모가\n",
            "병원 이용, 취업 준비, 단시간 근로 등 사유로\n",
            "일시적 보육서비스가 필요한 경우\n",
            "\n",
            "​시간 단위로 서비스를 이용하고\n",
            "이용시간만큼 보육료를 지불하는… https://t.co/KaLmvmgQDd\n",
            "코로나국내현황\n",
            "10월18일0시기준\n",
            "\n",
            "1차접종87.9%2차접종 87.1%\n",
            "3차접종65.5%4차접종 14.6%\n",
            "신규확진33,248명\n",
            "\n",
            "코로나 방역수칙,\n",
            "이것만은 지켜주세요!\n",
            "\n",
            "✔실내 마스크 착용\n",
            "✔모임 규모 최… https://t.co/cldT9aOzAr\n",
            "제42회 전국장애인체육대회가\n",
            "10월 19일부터 24일까지 6일간 \n",
            "울산광역시에서 진행됩니다. \n",
            "\n",
            "✔일시:2022년 10월 19일 수요일~24일 월요일\n",
            "✔장소:울산종합운동장 등 42개 경기장\n",
            "✔경기 종목:31… https://t.co/AvwbAPiEjD\n",
            "내 주변 성범죄자 정보는\n",
            "'성범죄자알림e'로 확인하세요.\n",
            "\n",
            "'성범죄자알림e' 누리집·모바일 앱에서는\n",
            "공개 대상 성범죄자의 \n",
            "8가지 정보를 열람할 수 있습니다.\n",
            "\n",
            "📌내 주변 성범죄자 찾기\n",
            "성범죄자알림e 누리집… https://t.co/supuiRCNBl\n",
            "[10월 17일 오늘 정책뉴스]\n",
            "#서민금융상품 #햇살론뱅크\n",
            "햇살론뱅크 대출한도는 12월 31일까지 최대 2,500만 원으로 한시 증액됩니다.\n",
            "https://t.co/QKevSx5v1v https://t.co/C9RSzmMRqr\n",
            "[10월 17일 오늘 정책뉴스]\n",
            "#산행_안전_국민행동요령 #등산\n",
            "등산하기 전, 안전수칙을 반드시 숙지해주세요! \n",
            "https://t.co/KVTwkaYtWT https://t.co/An2YZQf17b\n",
            "[10월 17일 오늘 정책뉴스]\n",
            "#에너지바우처\n",
            "에너지바우처는 12월 30일까지 읍·면·동 행정복지센터 또는 복지로 누리집을 통해 신청 가능합니다.\n",
            "https://t.co/azK1q5MCbj\n",
            "\n",
            "에너지바우처 누… https://t.co/nORfHnqjfL\n",
            "국민비서 #구삐 는\n",
            "각종 생활밀착형 행정 정보를\n",
            "네이버앱, 카카오톡, 토스나\n",
            "자주 이용하는 금융기관 모바일 앱 등을 통해\n",
            "편리하게 안내받을 수 있는 알림 서비스입니다.\n",
            "\n",
            "'수어로 보는 대한민국 정부' \n",
            "유튜… https://t.co/h5IECmzgPh\n",
            "코로나국내현황\n",
            "10월17일0시기준\n",
            "\n",
            "1차접종87.9%2차접종87.1%\n",
            "3차접종65.5%4차접종14.6%\n",
            "신규확진자11,040명\n",
            "\n",
            "2가백신 활용한\n",
            "코로나19 추가접종에\n",
            "적극 참여 부탁드립니다.\n",
            "\n",
            "사전예약 누리… https://t.co/GwpDBAFtNh\n"
          ]
        }
      ]
    },
    {
      "cell_type": "markdown",
      "source": [
        "## 데이터 수집"
      ],
      "metadata": {
        "id": "K_UOXJR_nZp_"
      }
    },
    {
      "cell_type": "code",
      "source": [
        "# GetSearch()\n",
        "\n",
        "query = '힌남노'\n",
        "statuses = twitter_api.GetSearch(term=query, count=1000)\n",
        "\n",
        "for status in statuses:\n",
        "  print(status.text + '\\n')\n"
      ],
      "metadata": {
        "colab": {
          "base_uri": "https://localhost:8080/"
        },
        "id": "090XH4MwnX1z",
        "outputId": "9227737f-b51c-4876-a90b-99f804cb87d9"
      },
      "execution_count": 21,
      "outputs": [
        {
          "output_type": "stream",
          "name": "stdout",
          "text": [
            "RT @haeky123: 여러분 태풍 힌남노 조심하세요. 매미보다 거센 역대급 태풍이라고 합니다. 저는 일산이라 안전하지만요. 저는 정말 행복한 거 같습니다. https://t.co/8JfmKyBOnb\n",
            "\n",
            "해운대 아직도 이랗더라\n",
            "진짜 힌남노는 미친태풍이었어\n",
            "누리마루 APEC 하우스도 밑에 공원 담장기와도 거의 다 부서져 있었고 https://t.co/Nm2zBKHrRO\n",
            "\n",
            "경상북도학교운영위원장연합회 포항 태풍(힌남노) 피해 학생 성금 전달 https://t.co/056m36qCuN\n",
            "\n",
            "16층+산등성이+골바람 쓰리콤보 먹으면 이렇게돼요 아 지금 집 흔들리는거같아 저번에 뭐 힌남노 그때보다 바람 훨씬많이붐 아니 집 흔들리는 기분 듭니다.... https://t.co/DnVXhbm9k0\n",
            "\n",
            "힌남노 대응, TK통합신공항, 탈탈원전 잘하고 있나…경북도 국감서 질의 잇따라\n",
            "\n",
            "바람이 힌남노보다 더 쎈거 같음 오바지만\n",
            "\n",
            "대한공중보건의사협의회가 태풍 힌남노로 수해를 입은 경상북도 포항지역 회원들을 위로하기 위해 성금 1,040,000원을 경상북도의사회 이우석 회장에게 전달했습니다. 신정환 대공협 회장은 “수해를 입은 회원들을… https://t.co/9MViy6hVXr\n",
            "\n",
            "[오마이뉴스 알림] 조정훈 님의 기사가 오마이뉴스 메인면에 배치됐습니다. &lt;경북 국정감사에서 태풍 '힌남노' 질타 쏟아져&gt; https://t.co/hN8NtPkbw7\n",
            "\n",
            "경북 국정감사에서 태풍 '힌남노' 질타 쏟아져 #국정감사 #태풍_'힌남노' #이철우 #국회_행안위 #경상북도 https://t.co/VE6B18CDnF 조정훈 기자\n",
            "\n",
            "[오마이뉴스 알림] 조정훈 님의 기사가 정식기사로 채택됐습니다. &lt;경북 국정감사에서 태풍 '힌남노' 질타 쏟아져&gt; https://t.co/hN8NtPkbw7\n",
            "\n"
          ]
        }
      ]
    },
    {
      "cell_type": "code",
      "source": [
        "query = '태풍'\n",
        "statuses = twitter_api.GetSearch(term=query, count=10)\n",
        "\n",
        "for status in statuses:\n",
        "  print(status.text + '\\n')"
      ],
      "metadata": {
        "id": "NF_elIyl3V-7",
        "outputId": "39e01198-0acf-43fb-9a3d-fa7750654dc6",
        "colab": {
          "base_uri": "https://localhost:8080/"
        }
      },
      "execution_count": 25,
      "outputs": [
        {
          "output_type": "stream",
          "name": "stdout",
          "text": [
            "RT @bin_Tem_light: @KCON_official #KCON_시청인증_포카예절샷\n",
            "템페스트와 케이콘의 조합이라니!\n",
            "너무 두근두근 기대한만큼 엄청난 무대 짜릿해서 kijul 할 뻔했지 모야😂😂\n",
            "태풍처럼 내 마음을 흔든 일곱 남자들이 모인 그룹…\n",
            "\n",
            "방송통신위원회에서는 제52차 전체회의를 개최하여 집중호우 및 태풍 피해 지역민에 대하여 2개월간 수신료를 면제하기로 의결했습니다. \n",
            "\n",
            "▶️자세한 내용 보러가기 \n",
            "https://t.co/ege70etTJY… https://t.co/ww6CHSJtGZ\n",
            "\n",
            "RT @ccheoon: 황태풍 에피소드 설명하는거 듣는 은하 너무 언니모먼트같지않나요...🥲 (언니맞음) https://t.co/u7Zth8fkj4\n",
            "\n",
            "RT @bin_Tem_light: @KCON_official #KCON_시청인증_포카예절샷\n",
            "템페스트와 케이콘의 조합이라니!\n",
            "너무 두근두근 기대한만큼 엄청난 무대 짜릿해서 kijul 할 뻔했지 모야😂😂\n",
            "태풍처럼 내 마음을 흔든 일곱 남자들이 모인 그룹…\n",
            "\n",
            "@euniciasolution 이번 보수정권에서 빨갱이는 확실히 발본색원하여 천정국 대한민국을 만들어야 한다. 윤대통령과 한장관은 나라를 바로 세운다는 숙명적 사명감을 갖고 어떤 강한 태풍이나 하리케인이 앞을 가로 막아도 박차고 헤쳐나가야 한다.\n",
            "\n",
            "RT @mona5891: 내가 생각하는 시네필 기준…\n",
            "끼니 거르고 영화 봄…\n",
            "태풍 뚫고 가서 영화 봄…\n",
            "수준이나 급 나누는 거랑 상관없음 걍 광기의 차원임…\n",
            "\n",
            "ㅋ태풍별거없내 지금볼래?\n",
            "\n",
            "ㄹㅏ인: ko837\n",
            "\n",
            " #얼싸 \n",
            "\n",
            "IMPDS231\n",
            "\n",
            "RT @mona5891: 내가 생각하는 시네필 기준…\n",
            "끼니 거르고 영화 봄…\n",
            "태풍 뚫고 가서 영화 봄…\n",
            "수준이나 급 나누는 거랑 상관없음 걍 광기의 차원임…\n",
            "\n",
            "RT @Bin__0707: #도리벤 #도리벤드림 #이자나드림 #이자나_드림 #천축드림\n",
            "태풍 오는날 천둥번개를 무서워하는 드림주랑 이자나 집에서 홈데이트 하는 드림\n",
            "\n",
            "드림주는 소리에 민감하였고, 그것 때문인지 천둥번개를 유독 무서워했는데 여름이 지나가…\n",
            "\n",
            "RT @mona5891: 내가 생각하는 시네필 기준…\n",
            "끼니 거르고 영화 봄…\n",
            "태풍 뚫고 가서 영화 봄…\n",
            "수준이나 급 나누는 거랑 상관없음 걍 광기의 차원임…\n",
            "\n"
          ]
        }
      ]
    },
    {
      "cell_type": "code",
      "source": [
        "query = '힌남노'\n",
        "statuses = twitter_api.GetSearch(term=query, count=10)\n",
        "data = []\n",
        "\n",
        "for status in statuses:\n",
        "  data.append([status.text, 1])\n",
        "\n",
        "data"
      ],
      "metadata": {
        "id": "5I0ginR6GEa-",
        "outputId": "719b6c63-fd1b-40ea-83f4-6fb08ce6fea9",
        "colab": {
          "base_uri": "https://localhost:8080/"
        }
      },
      "execution_count": 35,
      "outputs": [
        {
          "output_type": "execute_result",
          "data": {
            "text/plain": [
              "[['방송통신위원회에서는 제52차 전체회의를 개최하여 집중호우 및 태풍 피해 지역민에 대하여 2개월간 수신료를 면제하기로 의결했습니다. \\n\\n▶️자세한 내용 보러가기 \\nhttps://t.co/ege70etTJY… https://t.co/ww6CHSJtGZ',\n",
              "  1],\n",
              " ['RT @haeky123: 여러분 태풍 힌남노 조심하세요. 매미보다 거센 역대급 태풍이라고 합니다. 저는 일산이라 안전하지만요. 저는 정말 행복한 거 같습니다. https://t.co/8JfmKyBOnb',\n",
              "  1],\n",
              " ['해운대 아직도 이랗더라\\n진짜 힌남노는 미친태풍이었어\\n누리마루 APEC 하우스도 밑에 공원 담장기와도 거의 다 부서져 있었고 https://t.co/Nm2zBKHrRO',\n",
              "  1],\n",
              " ['경상북도학교운영위원장연합회 포항 태풍(힌남노) 피해 학생 성금 전달 https://t.co/056m36qCuN', 1],\n",
              " ['16층+산등성이+골바람 쓰리콤보 먹으면 이렇게돼요 아 지금 집 흔들리는거같아 저번에 뭐 힌남노 그때보다 바람 훨씬많이붐 아니 집 흔들리는 기분 듭니다.... https://t.co/DnVXhbm9k0',\n",
              "  1],\n",
              " ['힌남노 대응, TK통합신공항, 탈탈원전 잘하고 있나…경북도 국감서 질의 잇따라', 1],\n",
              " ['바람이 힌남노보다 더 쎈거 같음 오바지만', 1],\n",
              " ['대한공중보건의사협의회가 태풍 힌남노로 수해를 입은 경상북도 포항지역 회원들을 위로하기 위해 성금 1,040,000원을 경상북도의사회 이우석 회장에게 전달했습니다. 신정환 대공협 회장은 “수해를 입은 회원들을… https://t.co/9MViy6hVXr',\n",
              "  1],\n",
              " [\"[오마이뉴스 알림] 조정훈 님의 기사가 오마이뉴스 메인면에 배치됐습니다. &lt;경북 국정감사에서 태풍 '힌남노' 질타 쏟아져&gt; https://t.co/hN8NtPkbw7\",\n",
              "  1],\n",
              " [\"경북 국정감사에서 태풍 '힌남노' 질타 쏟아져 #국정감사 #태풍_'힌남노' #이철우 #국회_행안위 #경상북도 https://t.co/VE6B18CDnF 조정훈 기자\",\n",
              "  1]]"
            ]
          },
          "metadata": {},
          "execution_count": 35
        }
      ]
    },
    {
      "cell_type": "code",
      "source": [],
      "metadata": {
        "id": "7dMvBnJLGqf1"
      },
      "execution_count": null,
      "outputs": []
    }
  ]
}